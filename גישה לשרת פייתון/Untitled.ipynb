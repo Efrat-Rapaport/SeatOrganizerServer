{
 "cells": [
  {
   "cell_type": "code",
   "execution_count": null,
   "id": "aeed1b4f",
   "metadata": {},
   "outputs": [
    {
     "name": "stdout",
     "output_type": "stream",
     "text": [
      "Mon Jan 10 12:25:43 2022 Server Starts - 127.0.0.1:9007\n"
     ]
    },
    {
     "name": "stderr",
     "output_type": "stream",
     "text": [
      "127.0.0.1 - - [10/Jan/2022 12:27:06] \"GET /sentiment/?mystring=aaa%20bbb%20%20ccc HTTP/1.1\" 200 -\n",
      "127.0.0.1 - - [10/Jan/2022 12:27:06] \"GET /sentiment/?mystring=aaa%20bbb%20%20ccc HTTP/1.1\" 200 -\n"
     ]
    },
    {
     "name": "stdout",
     "output_type": "stream",
     "text": [
      "{\"1\": \"Welcome\", \"2\": \"to\", \"3\": \"server\", \"4\": \"for\", \"5\": \"python\"}\n"
     ]
    }
   ],
   "source": [
    "import os\n",
    "from http.server import BaseHTTPRequestHandler\n",
    "from http.server import HTTPServer\n",
    "import time\n",
    "from urllib.parse import urlparse, parse_qs\n",
    "import json\n",
    "import numpy as np\n",
    "from flask import Flask\n",
    "import pyodbc\n",
    "import ast\n",
    "import pandas as pd\n",
    "\n",
    "hostName = \"127.0.0.1\"\n",
    "hostPort = 9007\n",
    "\n",
    "\n",
    "class MyServer(BaseHTTPRequestHandler):\n",
    "    app = Flask(__name__)\n",
    "\n",
    "    def sentiment(self):\n",
    "        pass\n",
    "    #     do something\n",
    "    # to use the model you need firefly\n",
    "\n",
    "    def do_GET(self):\n",
    "        # getparams\n",
    "        query_components = parse_qs(urlparse(self.path).query)\n",
    "        self.send_response(200)\n",
    "        self.send_header(\"Content-type\", 'application/json')\n",
    "        self.end_headers()\n",
    "        if \"sentiment\" in self.path:\n",
    "            pass\n",
    "        #     call function\n",
    "        self.send_response(200)\n",
    "        self.end_headers()\n",
    "        \n",
    "        Dictionary ={1:'Welcome', 2:'to',\n",
    "            3:'server', 4:'for',\n",
    "            5:'python'}\n",
    "  \n",
    "        # Converts input dictionary into\n",
    "        # string and stores it in json_string\n",
    "        json_content = json.dumps(Dictionary)\n",
    "        \n",
    "        #json_content = json.dumps(\"the function/ model response\", ensure_ascii=False)  # json.dumps(res)\n",
    "        print(json_content)\n",
    "        self.wfile.write(bytes(str(json_content), \"utf-8\"))\n",
    "        return\n",
    "\n",
    "# generate the server\n",
    "myServer = HTTPServer((hostName, hostPort), MyServer)\n",
    "print(time.asctime(), \"Server Starts - %s:%s\" % (hostName, hostPort))\n",
    "try:\n",
    "    myServer.serve_forever() \n",
    "except KeyboardInterrupt:\n",
    "    pass\n",
    "\n",
    "# stop the server\n",
    "myServer.server_close()\n",
    "print(time.asctime(), \"Server Closed - %s:%s\" % (hostName, hostPort))\n"
   ]
  },
  {
   "cell_type": "code",
   "execution_count": null,
   "id": "137206b5",
   "metadata": {},
   "outputs": [],
   "source": [
    " "
   ]
  }
 ],
 "metadata": {
  "kernelspec": {
   "display_name": "Python 3",
   "language": "python",
   "name": "python3"
  },
  "language_info": {
   "codemirror_mode": {
    "name": "ipython",
    "version": 3
   },
   "file_extension": ".py",
   "mimetype": "text/x-python",
   "name": "python",
   "nbconvert_exporter": "python",
   "pygments_lexer": "ipython3",
   "version": "3.8.8"
  }
 },
 "nbformat": 4,
 "nbformat_minor": 5
}
